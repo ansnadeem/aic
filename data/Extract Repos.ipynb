{
 "cells": [
  {
   "cell_type": "markdown",
   "id": "9034e32b",
   "metadata": {},
   "source": [
    "# Collects all the repositories from the 55 programming languages \n",
    "\n",
    "### Reference:\n",
    "S. Cass, \"The top programming languages: Our latest rankings put Python on top-again - [Careers],\" in IEEE Spectrum, vol. 57, no. 8, pp. 22-22, Aug. 2020, doi: 10.1109/MSPEC.2020.9150550."
   ]
  },
  {
   "cell_type": "code",
   "execution_count": null,
   "id": "supported-strike",
   "metadata": {},
   "outputs": [],
   "source": [
    "import requests\n",
    "import urllib\n",
    "import csv\n",
    "import time\n",
    "from os import path\n",
    "import datetime"
   ]
  },
  {
   "cell_type": "code",
   "execution_count": null,
   "id": "coral-setting",
   "metadata": {},
   "outputs": [],
   "source": [
    "IEEE_Rankings = []\n",
    "with open('ieee_rankings.csv') as f:\n",
    "    reader = csv.reader(f)\n",
    "    IEEE_Rankings = list(reader)[0]\n",
    "\n",
    "\n",
    "ATTRIBUTES_TO_FETCH = ['name','fork','url','issues_url','labels_url','created_at',\n",
    "                       'updated_at','language','forks_count','open_issues', 'watchers', 'stargazers_count']"
   ]
  },
  {
   "cell_type": "markdown",
   "id": "530b0a8c",
   "metadata": {},
   "source": [
    "# Define functions\n",
    "Define the functions that we are going to use for the fetching task, with a support for quicker access. Generate a github access token and copy it in the variable below for increasing usage limits."
   ]
  },
  {
   "cell_type": "code",
   "execution_count": null,
   "id": "passing-response",
   "metadata": {},
   "outputs": [],
   "source": [
    "REPOSITORY_API_BASE = 'https://api.github.com/search/repositories?'\n",
    "RESULTS_PER_PAGE = 100\n",
    "API_RESULTS_LIMIT = 1000\n",
    "githubAccessToken = ''\n",
    "fileName = 'repos.csv'\n",
    "\n",
    "def ensureRequestCount(r):\n",
    "    remaining = int(r.headers['X-RateLimit-Remaining'])\n",
    "    print(\"Remaining limit: \" + str(remaining))\n",
    "    if (remaining == 0):\n",
    "        reset_time = datetime.datetime.fromtimestamp(int(r.headers['X-RateLimit-Reset']))\n",
    "        seconds_until_reset = (reset_time - datetime.datetime.now()).total_seconds() + 10\n",
    "        print(\"Limit Exceed, Going to wait mode for \" + str(seconds_until_reset))\n",
    "        time.sleep(seconds_until_reset)\n",
    "        \n",
    "def getRequest(url):\n",
    "    if (githubAccessToken!=''):\n",
    "        headers = {'Authorization': 'token '+ githubAccessToken}\n",
    "    else:\n",
    "        headers = ''\n",
    "    response = requests.get(url,headers=headers)\n",
    "    ensureRequestCount(response)\n",
    "    return response\n",
    "\n",
    "def buildQueryUrl(language, pageNumber):\n",
    "    QUERY_COMPONENTS = {\n",
    "        \"q\": 'language:{0}'.format(language),\n",
    "        \"s\": 'stars',\n",
    "        \"o\": 'desc',\n",
    "        \"page\": pageNumber,\n",
    "        \"per_page\": RESULTS_PER_PAGE\n",
    "    }\n",
    "    return REPOSITORY_API_BASE + urllib.parse.urlencode(QUERY_COMPONENTS)\n",
    "\n",
    "def getAllQueryUrls(language):\n",
    "    request = getRequest(buildQueryUrl(language, 1))\n",
    "    json_request = request.json()\n",
    "    total_items = json_request['total_count']\n",
    "    if (total_items > API_RESULTS_LIMIT):\n",
    "        total_items = API_RESULTS_LIMIT # Limit the results to first 1000\n",
    "    \n",
    "    queryUrls = []\n",
    "    totalPages = total_items / RESULTS_PER_PAGE\n",
    "    for page in range(1,int(totalPages)+1):\n",
    "        queryUrls.append(buildQueryUrl(language, page))\n",
    "    return queryUrls\n",
    "\n",
    "def fetchAttributesFromRepo(item):\n",
    "    items = []\n",
    "    for attribute in ATTRIBUTES_TO_FETCH:\n",
    "        items.append(item[attribute])\n",
    "    return items"
   ]
  },
  {
   "cell_type": "markdown",
   "id": "6563c056",
   "metadata": {},
   "source": [
    "# Fetch Repositories\n",
    "Fetch all the repositories based on languages in the IEEE Ranking, sorted by star count"
   ]
  },
  {
   "cell_type": "code",
   "execution_count": null,
   "id": "surgical-christmas",
   "metadata": {},
   "outputs": [],
   "source": [
    "for language in IEEE_Rankings:\n",
    "    print(\"- Starting for \" + language)\n",
    "    queryUrls = getAllQueryUrls(language)\n",
    "    for url in queryUrls:\n",
    "        print(\"-- \" + url)\n",
    "        r = getRequest(url)\n",
    "        rObject = r.json()\n",
    "        for repo in rObject['items']:\n",
    "            isNewFile = False\n",
    "            if path.exists(fileName)==False:\n",
    "                isNewFile = True\n",
    "            with open(fileName, 'a', newline='') as csvfile:\n",
    "                writer = csv.writer(csvfile, delimiter=',', quotechar='\"', quoting=csv.QUOTE_MINIMAL)\n",
    "                if (isNewFile):\n",
    "                    writer.writerow(ATTRIBUTES_TO_FETCH)\n",
    "                    isNewFile = False\n",
    "                writer.writerow(fetchAttributesFromRepo(repo))"
   ]
  },
  {
   "cell_type": "code",
   "execution_count": null,
   "id": "528b7201",
   "metadata": {},
   "outputs": [],
   "source": []
  }
 ],
 "metadata": {
  "kernelspec": {
   "display_name": "Python 3",
   "language": "python",
   "name": "python3"
  },
  "language_info": {
   "codemirror_mode": {
    "name": "ipython",
    "version": 3
   },
   "file_extension": ".py",
   "mimetype": "text/x-python",
   "name": "python",
   "nbconvert_exporter": "python",
   "pygments_lexer": "ipython3",
   "version": "3.8.10"
  }
 },
 "nbformat": 4,
 "nbformat_minor": 5
}
