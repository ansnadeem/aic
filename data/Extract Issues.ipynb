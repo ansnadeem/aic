{
 "cells": [
  {
   "cell_type": "markdown",
   "id": "a247ddca",
   "metadata": {},
   "source": [
    "# Import Required Packages"
   ]
  },
  {
   "cell_type": "code",
   "execution_count": null,
   "id": "powered-explanation",
   "metadata": {},
   "outputs": [],
   "source": [
    "import requests\n",
    "import pandas as pd\n",
    "import urllib\n",
    "import csv\n",
    "import time\n",
    "from os import path\n",
    "import datetime"
   ]
  },
  {
   "cell_type": "code",
   "execution_count": null,
   "id": "toxic-juice",
   "metadata": {},
   "outputs": [],
   "source": [
    "githubAccessToken = ''\n",
    "fileName = 'issues.csv'"
   ]
  },
  {
   "cell_type": "markdown",
   "id": "c284c613",
   "metadata": {},
   "source": [
    "# Define utility functions"
   ]
  },
  {
   "cell_type": "code",
   "execution_count": null,
   "id": "aquatic-minnesota",
   "metadata": {},
   "outputs": [],
   "source": [
    "def ensureRequestCount(r):\n",
    "    remaining = int(r.headers['X-RateLimit-Remaining'])\n",
    "    print(\"Remaining limit: \" + str(remaining))\n",
    "    if (remaining == 0):\n",
    "        reset_time = datetime.datetime.fromtimestamp(int(r.headers['X-RateLimit-Reset']))\n",
    "        seconds_until_reset = (reset_time - datetime.datetime.now()).total_seconds() + 10\n",
    "        print(\"Limit Exceed, Going to wait mode for \" + str(seconds_until_reset))\n",
    "        time.sleep(seconds_until_reset)\n",
    "        \n",
    "def getRequest(url):\n",
    "    if (githubAccessToken!=''):\n",
    "        headers = {'Authorization': 'token '+ githubAccessToken}\n",
    "    else:\n",
    "        headers = ''\n",
    "    response = requests.get(url,headers=headers)\n",
    "    ensureRequestCount(response)\n",
    "    return response\n",
    "\n",
    "def getUrlForPage(url,page):\n",
    "    return url + \"?per_page=100&page=\"+str(page)"
   ]
  },
  {
   "cell_type": "markdown",
   "id": "99648215",
   "metadata": {},
   "source": [
    "# Extract issues from the repositories\n",
    "Here we extract the issues from the repositories collected as a result of running the 'Extract Repos' notebook."
   ]
  },
  {
   "cell_type": "code",
   "execution_count": null,
   "id": "limited-fraud",
   "metadata": {},
   "outputs": [],
   "source": [
    "df = pd.read_csv('repos.csv')\n",
    "totalRepos = len(df.index)\n",
    "fetchedCount = 0\n",
    "lastFetched = '' # Incase of unexplained failure, copy the last fetched URL here\n",
    "lastFetchedPage = 1 # Incase of failure, copy the last fetched page number here\n",
    "shouldResume = (lastFetched == None or lastFetched == '')\n",
    "for repositoryRow in df.itertuples():\n",
    "    fetchedCount += 1\n",
    "    issue_url = repositoryRow[4]\n",
    "    issue_url = issue_url.replace(\"{/number}\",\"\")\n",
    "    currentPage = 1\n",
    "    \n",
    "    if (lastFetched != None and shouldResume == False):\n",
    "        if (issue_url == lastFetched):\n",
    "            shouldResume = True\n",
    "            currentPage = lastFetchedPage + 1\n",
    "        else:\n",
    "            #print (\"Skipped \"+issue_url)\n",
    "            continue\n",
    "            \n",
    "    \n",
    "    print(\"------------- Repository \" + str(fetchedCount) + \" out of \" + str(totalRepos) + \"-------------\")\n",
    "\n",
    "    with open(fileName, 'a', newline='', encoding=\"utf8\") as csvfile:\n",
    "        while(True):\n",
    "            paged_issue_url = getUrlForPage(issue_url,currentPage)\n",
    "            while(True):\n",
    "                try:\n",
    "                    r = getRequest(paged_issue_url)\n",
    "                    break\n",
    "                except:\n",
    "                    time.sleep(60)\n",
    "                    continue\n",
    "                    \n",
    "            print(paged_issue_url)\n",
    "            rObject = r.json()\n",
    "            if (len(rObject) == 0):\n",
    "                break\n",
    "            try:\n",
    "                if (rObject[0]['title'] != None):\n",
    "                    pass\n",
    "            except:\n",
    "                print(\"HTTP Error at \" +str(paged_issue_url)+ \". Skipping ...\")\n",
    "                break\n",
    "\n",
    "\n",
    "            for issue in rObject:\n",
    "                isNewFile = False\n",
    "                if path.exists(fileName)==False:\n",
    "                    isNewFile = True\n",
    "                writer = csv.writer(csvfile, delimiter=',', quotechar='\"', quoting=csv.QUOTE_MINIMAL)\n",
    "                if (isNewFile):\n",
    "                    writer.writerow(['title','labels','state','body','issue_url','repository_url'])\n",
    "                    isNewFile = False\n",
    "                labels = []\n",
    "                for label in issue['labels']:\n",
    "                    labels.append({\n",
    "                        'name:': label['name'],\n",
    "                        'description:': label['description'],\n",
    "                        'color': label['color']\n",
    "                    })\n",
    "                writer.writerow([issue['title'], labels, issue['state'], issue['body'], issue['url'], issue['repository_url']])\n",
    "            currentPage+=1"
   ]
  },
  {
   "cell_type": "code",
   "execution_count": null,
   "id": "cdbe13a2",
   "metadata": {},
   "outputs": [],
   "source": []
  }
 ],
 "metadata": {
  "kernelspec": {
   "display_name": "Python 3",
   "language": "python",
   "name": "python3"
  },
  "language_info": {
   "codemirror_mode": {
    "name": "ipython",
    "version": 3
   },
   "file_extension": ".py",
   "mimetype": "text/x-python",
   "name": "python",
   "nbconvert_exporter": "python",
   "pygments_lexer": "ipython3",
   "version": "3.8.10"
  }
 },
 "nbformat": 4,
 "nbformat_minor": 5
}
